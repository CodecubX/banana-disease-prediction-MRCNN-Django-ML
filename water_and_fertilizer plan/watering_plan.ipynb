{
 "cells": [
  {
   "cell_type": "markdown",
   "metadata": {
    "collapsed": true,
    "pycharm": {
     "name": "#%% md\n"
    }
   },
   "source": [
    "# Banana Watering Plan Prediction"
   ]
  },
  {
   "cell_type": "code",
   "execution_count": null,
   "outputs": [],
   "source": [
    "import pandas as pd"
   ],
   "metadata": {
    "collapsed": false,
    "pycharm": {
     "name": "#%%\n"
    }
   }
  },
  {
   "cell_type": "code",
   "execution_count": 4,
   "outputs": [],
   "source": [
    "df = pd.read_csv('./dataset/banana_watering_data.csv')"
   ],
   "metadata": {
    "collapsed": false,
    "pycharm": {
     "name": "#%%\n"
    }
   }
  },
  {
   "cell_type": "code",
   "execution_count": 5,
   "outputs": [
    {
     "data": {
      "text/plain": "   Temperature  Rainfall  Humidity  Wind Speed  Soil Moisture  Growth Stage  \\\n0           32         2        70          10             80      ripening   \n1           26         3        50           6             40  reproductive   \n2           28         4        90           5             20  reproductive   \n3           30         2        80           1            100      ripening   \n4           24         6        50           9             40      ripening   \n\n  Irrigation Method      Soil Type  Crop Density Water Source   Slope  \\\n0         sprinkler      Peat Soil          3000         pond    none   \n1         sprinkler      Peat Soil          2500         pond    none   \n2         sprinkler    Yellow Soil          3500        river  medium   \n3         sprinkler  Laterite Soil          2500         well     low   \n4              drip    Yellow Soil          2000        river  medium   \n\n         Watering Plan  \n0            every day  \n1          once a week  \n2  once every 1-2 days  \n3          once a week  \n4  once every 3-4 days  ",
      "text/html": "<div>\n<style scoped>\n    .dataframe tbody tr th:only-of-type {\n        vertical-align: middle;\n    }\n\n    .dataframe tbody tr th {\n        vertical-align: top;\n    }\n\n    .dataframe thead th {\n        text-align: right;\n    }\n</style>\n<table border=\"1\" class=\"dataframe\">\n  <thead>\n    <tr style=\"text-align: right;\">\n      <th></th>\n      <th>Temperature</th>\n      <th>Rainfall</th>\n      <th>Humidity</th>\n      <th>Wind Speed</th>\n      <th>Soil Moisture</th>\n      <th>Growth Stage</th>\n      <th>Irrigation Method</th>\n      <th>Soil Type</th>\n      <th>Crop Density</th>\n      <th>Water Source</th>\n      <th>Slope</th>\n      <th>Watering Plan</th>\n    </tr>\n  </thead>\n  <tbody>\n    <tr>\n      <th>0</th>\n      <td>32</td>\n      <td>2</td>\n      <td>70</td>\n      <td>10</td>\n      <td>80</td>\n      <td>ripening</td>\n      <td>sprinkler</td>\n      <td>Peat Soil</td>\n      <td>3000</td>\n      <td>pond</td>\n      <td>none</td>\n      <td>every day</td>\n    </tr>\n    <tr>\n      <th>1</th>\n      <td>26</td>\n      <td>3</td>\n      <td>50</td>\n      <td>6</td>\n      <td>40</td>\n      <td>reproductive</td>\n      <td>sprinkler</td>\n      <td>Peat Soil</td>\n      <td>2500</td>\n      <td>pond</td>\n      <td>none</td>\n      <td>once a week</td>\n    </tr>\n    <tr>\n      <th>2</th>\n      <td>28</td>\n      <td>4</td>\n      <td>90</td>\n      <td>5</td>\n      <td>20</td>\n      <td>reproductive</td>\n      <td>sprinkler</td>\n      <td>Yellow Soil</td>\n      <td>3500</td>\n      <td>river</td>\n      <td>medium</td>\n      <td>once every 1-2 days</td>\n    </tr>\n    <tr>\n      <th>3</th>\n      <td>30</td>\n      <td>2</td>\n      <td>80</td>\n      <td>1</td>\n      <td>100</td>\n      <td>ripening</td>\n      <td>sprinkler</td>\n      <td>Laterite Soil</td>\n      <td>2500</td>\n      <td>well</td>\n      <td>low</td>\n      <td>once a week</td>\n    </tr>\n    <tr>\n      <th>4</th>\n      <td>24</td>\n      <td>6</td>\n      <td>50</td>\n      <td>9</td>\n      <td>40</td>\n      <td>ripening</td>\n      <td>drip</td>\n      <td>Yellow Soil</td>\n      <td>2000</td>\n      <td>river</td>\n      <td>medium</td>\n      <td>once every 3-4 days</td>\n    </tr>\n  </tbody>\n</table>\n</div>"
     },
     "execution_count": 5,
     "metadata": {},
     "output_type": "execute_result"
    }
   ],
   "source": [
    "df.head()"
   ],
   "metadata": {
    "collapsed": false,
    "pycharm": {
     "name": "#%%\n"
    }
   }
  },
  {
   "cell_type": "markdown",
   "source": [
    "- **Temperature (in Celsius)**: The temperature of the environment where the banana plants are grown.\n",
    "- **Rainfall (in mm)**: The amount of rainfall received in the area where the banana plants are grown.\n",
    "- **Humidity (in percentage)**: The level of humidity in the air where the banana plants are grown.\n",
    "- **Wind Speed (in km/h)**: The speed of the wind in the area where the banana plants are grown.\n",
    "- **Soil Moisture (in percentage)**: The amount of moisture present in the soil where the banana plants are grown.\n",
    "- **Plant Growth Stage (in weeks)**: The number of weeks since the banana plants were first planted.\n",
    "- **Irrigation Method**: The method used for watering the banana plants (drip irrigation, sprinkler irrigation, flood irrigation, etc.).\n",
    "- **Soil Type**: The type of soil where the banana plants are grown (Black Soil, Cinder Soil, Laterite Soil, Peat Soil, Yellow Soil).\n",
    "- **Crop Density (plants/m²)**: The number of banana plants grown per square meter of land.\n",
    "- **Water Source**: The source of water used for irrigation (groundwater, surface water, municipal water, etc.).\n",
    "- **Slope of the Land**: The slope of the land where the banana plants are grown (None, Low, Medium, High).\n",
    "- **Watering Plan**: The recommended watering plan for the banana plants based on the given features (every day, once every 1-2 days, once every 3-4 days, etc.)."
   ],
   "metadata": {
    "collapsed": false,
    "pycharm": {
     "name": "#%% md\n"
    }
   }
  }
 ],
 "metadata": {
  "kernelspec": {
   "display_name": "Python 3",
   "language": "python",
   "name": "python3"
  },
  "language_info": {
   "codemirror_mode": {
    "name": "ipython",
    "version": 2
   },
   "file_extension": ".py",
   "mimetype": "text/x-python",
   "name": "python",
   "nbconvert_exporter": "python",
   "pygments_lexer": "ipython2",
   "version": "2.7.6"
  }
 },
 "nbformat": 4,
 "nbformat_minor": 0
}